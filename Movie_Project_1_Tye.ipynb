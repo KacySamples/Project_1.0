{
 "cells": [
  {
   "cell_type": "code",
   "execution_count": 1,
   "id": "e6faa667",
   "metadata": {},
   "outputs": [],
   "source": [
    "import pandas as pd\n",
    "import matplotlib.pyplot as plt\n",
    "import pandas as pd\n",
    "import plotly.express as px\n",
    "from scipy.stats import linregress"
   ]
  },
  {
   "cell_type": "code",
   "execution_count": 5,
   "id": "80af1bb6",
   "metadata": {},
   "outputs": [],
   "source": [
    "# # Replace 'your_file.csv' with the actual path to your CSV file.\n",
    "csv_file = 'data/tmdb_5000_movies.csv'\n",
    "\n",
    "# # Read the CSV file into a pandas DataFrame.\n",
    "df = pd.read_csv(csv_file)"
   ]
  },
  {
   "cell_type": "code",
   "execution_count": 9,
   "id": "0ada0d26",
   "metadata": {},
   "outputs": [],
   "source": [
    "df_clean =df[[\"original_title\", \"budget\", \"revenue\", \"runtime\", \"vote_average\", \"genres\"]]"
   ]
  },
  {
   "cell_type": "code",
   "execution_count": 8,
   "id": "38bc928c",
   "metadata": {},
   "outputs": [],
   "source": [
    "df_clean_1 =df_clean.dropna()"
   ]
  },
  {
   "cell_type": "code",
   "execution_count": null,
   "id": "83d4ead3",
   "metadata": {},
   "outputs": [],
   "source": []
  }
 ],
 "metadata": {
  "kernelspec": {
   "display_name": "Python 3 (ipykernel)",
   "language": "python",
   "name": "python3"
  },
  "language_info": {
   "codemirror_mode": {
    "name": "ipython",
    "version": 3
   },
   "file_extension": ".py",
   "mimetype": "text/x-python",
   "name": "python",
   "nbconvert_exporter": "python",
   "pygments_lexer": "ipython3",
   "version": "3.11.4"
  }
 },
 "nbformat": 4,
 "nbformat_minor": 5
}
